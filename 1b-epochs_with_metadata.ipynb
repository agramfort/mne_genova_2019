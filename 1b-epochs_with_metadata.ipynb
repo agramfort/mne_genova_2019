{
 "cells": [
  {
   "cell_type": "code",
   "execution_count": null,
   "metadata": {},
   "outputs": [],
   "source": [
    "%matplotlib inline"
   ]
  },
  {
   "cell_type": "markdown",
   "metadata": {},
   "source": [
    "# Pandas querying and metadata with Epochs objects\n",
    "\n",
    "`\n",
    "Authors: Chris Holdgraf <choldgraf@gmail.com>\n",
    "         Jona Sassenhagen <jona.sassenhagen@gmail.com>\n",
    "         Eric Larson <larson.eric.d@gmail.com>\n",
    "         Alex Gramfort <alexandre.gramfort@inria.fr>\n",
    "`\n",
    "\n",
    "This notebook demonstrates how to use Epochs with metadata.\n",
    "This allows to use [pandas-style string querying](https://pandas.pydata.org/pandas-docs/stable/reference/api/pandas.DataFrame.query.html) and also to keep\n",
    "all metadata aligned with the epochs.\n",
    "\n",
    "Sometimes you may have a complex trial structure that cannot be easily\n",
    "summarized as a set of unique integers. In this case, it may be useful to use\n",
    "the ``metadata`` attribute of `mne.Epochs` objects. This must be a\n",
    "`pandas.DataFrame` where each row corresponds to an epoch, and each\n",
    "column corresponds to a metadata attribute of each epoch. Columns must\n",
    "contain either strings, ints, or floats.\n",
    "\n",
    "In this dataset, subjects were presented with individual words\n",
    "on a screen, and the EEG activity in response to each word was recorded.\n",
    "We know which word was displayed in each epoch, as well as\n",
    "extra information about the word (e.g., word frequency).\n",
    "\n",
    "See [reference paper](https://hal.archives-ouvertes.fr/hal-01432349/document):\n",
    "\n",
    "    Dufau, S., Grainger, J., Midgley, KJ., Holcomb, PJ.\n",
    "    A thousand words are worth a picture: Snapshots of printed-word processing\n",
    "    in an event-related potential megastudy. Psychological Science, 2015\n",
    "\n",
    "## Loading the data\n",
    "\n",
    "First we'll load the data. If metadata exists for an `mne.Epochs`\n",
    "fif file, it will automatically be loaded in the ``metadata`` attribute."
   ]
  },
  {
   "cell_type": "code",
   "execution_count": null,
   "metadata": {},
   "outputs": [],
   "source": [
    "import mne\n",
    "import numpy as np\n",
    "import matplotlib.pyplot as plt\n",
    "\n",
    "# Load the data from the internet\n",
    "path = mne.datasets.kiloword.data_path() + '/kword_metadata-epo.fif'\n",
    "epochs = mne.read_epochs(path)"
   ]
  },
  {
   "cell_type": "code",
   "execution_count": null,
   "metadata": {},
   "outputs": [],
   "source": [
    "# The metadata exists as a Pandas DataFrame\n",
    "type(epochs.metadata)"
   ]
  },
  {
   "cell_type": "code",
   "execution_count": null,
   "metadata": {},
   "outputs": [],
   "source": [
    "# We have one set of metadata for each epoch:\n",
    "len(epochs), len(epochs.metadata)"
   ]
  },
  {
   "cell_type": "code",
   "execution_count": null,
   "metadata": {},
   "outputs": [],
   "source": [
    "# Inspect the content by displaying the first 5 rows\n",
    "print(epochs.metadata.head(5))"
   ]
  },
  {
   "cell_type": "code",
   "execution_count": null,
   "metadata": {},
   "outputs": [],
   "source": [
    "epochs['loft']"
   ]
  },
  {
   "cell_type": "code",
   "execution_count": null,
   "metadata": {},
   "outputs": [],
   "source": [
    "%conda install pandas\n",
    "%pip install pandas"
   ]
  },
  {
   "cell_type": "markdown",
   "metadata": {},
   "source": [
    "As we have a dataframe one can do standard Pandas manipulations:"
   ]
  },
  {
   "cell_type": "code",
   "execution_count": null,
   "metadata": {},
   "outputs": [],
   "source": [
    "epochs.metadata[['WORD', 'Concreteness']].head(5)  # take only 2 columns"
   ]
  },
  {
   "cell_type": "code",
   "execution_count": null,
   "metadata": {},
   "outputs": [],
   "source": [
    "epochs.metadata[['WORD', 'Concreteness']].sort_values(by=\"Concreteness\", ascending=False).head(5)"
   ]
  },
  {
   "cell_type": "code",
   "execution_count": null,
   "metadata": {},
   "outputs": [],
   "source": [
    "epochs.metadata.groupby('NumberOfLetters').count()[['WORD']]  # Nb. of word of each length"
   ]
  },
  {
   "cell_type": "code",
   "execution_count": null,
   "metadata": {},
   "outputs": [],
   "source": [
    "epochs.metadata['WordFrequency'].plot('hist')  # histogram of word frequencies"
   ]
  },
  {
   "cell_type": "code",
   "execution_count": null,
   "metadata": {},
   "outputs": [],
   "source": [
    "epochs.metadata.groupby('NumberOfLetters').count()[['WORD']].plot(kind='barh')  # Plot nb. of word of each length"
   ]
  },
  {
   "cell_type": "markdown",
   "metadata": {},
   "source": [
    "## Let's use seaborn to make publication ready plots:"
   ]
  },
  {
   "cell_type": "code",
   "execution_count": null,
   "metadata": {},
   "outputs": [],
   "source": [
    "import seaborn as sns\n",
    "\n",
    "sns.boxplot(x=\"NumberOfLetters\", y=\"WordFrequency\", data=epochs.metadata,\n",
    "            whis=\"range\", palette=\"vlag\")"
   ]
  },
  {
   "cell_type": "code",
   "execution_count": null,
   "metadata": {},
   "outputs": [],
   "source": [
    "sns.violinplot(x=\"NumberOfLetters\", y=\"Concreteness\", data=epochs.metadata,\n",
    "               palette=\"vlag\")"
   ]
  },
  {
   "cell_type": "markdown",
   "metadata": {},
   "source": [
    "### My first pandas query:"
   ]
  },
  {
   "cell_type": "code",
   "execution_count": null,
   "metadata": {},
   "outputs": [],
   "source": [
    "epochs.metadata.query('Concreteness < 4.5 and NumberOfLetters < 5').head(5)"
   ]
  },
  {
   "cell_type": "markdown",
   "metadata": {},
   "source": [
    "<div class=\"alert alert-success\">\n",
    "    <b>Exercise</b>:\n",
    "     <ul>\n",
    "    <li>How many words have a WordFrequency higher than 4 and a NumberOfLetters of 5</li>\n",
    "    <li>What is the distribution of number of letters among the words having a VisualComplexity higher than 65.</li>\n",
    "    <li>Represent this distribution with a pie chart.</li>\n",
    "    </ul>\n",
    "</div>"
   ]
  },
  {
   "cell_type": "code",
   "execution_count": null,
   "metadata": {},
   "outputs": [],
   "source": [
    "# TODO\n"
   ]
  },
  {
   "cell_type": "markdown",
   "metadata": {},
   "source": [
    "# From Epochs slicing to pandas queries\n",
    "\n",
    "Let's first use standard epochs indexing:"
   ]
  },
  {
   "cell_type": "code",
   "execution_count": null,
   "metadata": {},
   "outputs": [],
   "source": [
    "epochs[0]  # get first epoch"
   ]
  },
  {
   "cell_type": "code",
   "execution_count": null,
   "metadata": {},
   "outputs": [],
   "source": [
    "epochs[:10]  # get first 10 epoch"
   ]
  },
  {
   "cell_type": "code",
   "execution_count": null,
   "metadata": {},
   "outputs": [],
   "source": [
    "epochs['loft']  # get epoch based on event_id"
   ]
  },
  {
   "cell_type": "markdown",
   "metadata": {},
   "source": [
    "Now when we have some metadata attached to the epochs one can directly query the epochs\n",
    "to select subsets of Epochs. This uses the Pandas :meth:`pandas.DataFrame.query` method under the hood.\n",
    "Any valid query string will work. Below we'll make two plots to compare\n",
    "between them:"
   ]
  },
  {
   "cell_type": "code",
   "execution_count": null,
   "metadata": {},
   "outputs": [],
   "source": [
    "evoked1 = epochs['Concreteness < 5 and WordFrequency < 2'].average()\n",
    "evoked2 = epochs['Concreteness > 5 and WordFrequency > 2'].average()\n",
    "\n",
    "evoked1.plot_joint(times=[0.13, 0.25, 0.4])\n",
    "evoked2.plot_joint(times=[0.13, 0.25, 0.4]);"
   ]
  },
  {
   "cell_type": "markdown",
   "metadata": {},
   "source": [
    "Next we'll choose a subset of words to keep.\n",
    "\n"
   ]
  },
  {
   "cell_type": "code",
   "execution_count": null,
   "metadata": {},
   "outputs": [],
   "source": [
    "words = ['film', 'cent', 'shot', 'cold', 'main']\n",
    "epochs['WORD in {}'.format(words)].plot_image()"
   ]
  },
  {
   "cell_type": "markdown",
   "metadata": {},
   "source": [
    "### Advanced\n",
    "\n",
    "Below we'll show a more involved example that leverages the metadata\n",
    "of each epoch. We'll create a new column in our metadata object and use\n",
    "it to generate averages for many subsets of trials."
   ]
  },
  {
   "cell_type": "code",
   "execution_count": null,
   "metadata": {},
   "outputs": [],
   "source": [
    "# Create two new metadata columns\n",
    "metadata = epochs.metadata\n",
    "is_concrete = metadata[\"Concreteness\"] > metadata[\"Concreteness\"].median()\n",
    "metadata[\"is_concrete\"] = np.where(is_concrete, 'Concrete', 'Abstract')\n",
    "is_long = metadata[\"NumberOfLetters\"] > 5\n",
    "metadata[\"is_long\"] = np.where(is_long, 'Long', 'Short')\n",
    "epochs.metadata = metadata\n",
    "epochs.metadata.head(5)"
   ]
  },
  {
   "cell_type": "markdown",
   "metadata": {},
   "source": [
    "Now we can quickly extract (and plot) subsets of the data. For example, to\n",
    "look at words split by word length and concreteness:\n",
    "\n"
   ]
  },
  {
   "cell_type": "code",
   "execution_count": null,
   "metadata": {},
   "outputs": [],
   "source": [
    "query = \"is_long == '{0}' & is_concrete == '{1}'\"\n",
    "evokeds = dict()\n",
    "for concreteness in (\"Concrete\", \"Abstract\"):\n",
    "    for length in (\"Long\", \"Short\"):\n",
    "        subset = epochs[query.format(length, concreteness)]\n",
    "        evokeds[\"/\".join((concreteness, length))] = subset.average()\n",
    "\n",
    "evokeds.keys()"
   ]
  },
  {
   "cell_type": "code",
   "execution_count": null,
   "metadata": {},
   "outputs": [],
   "source": [
    "type(evokeds['Concrete/Long'])  # one evoked"
   ]
  },
  {
   "cell_type": "code",
   "execution_count": null,
   "metadata": {},
   "outputs": [],
   "source": [
    "evokeds['Concrete/Long'].nave  # obtained by averaging 252 epochs"
   ]
  },
  {
   "cell_type": "code",
   "execution_count": null,
   "metadata": {},
   "outputs": [],
   "source": [
    "evokeds"
   ]
  },
  {
   "cell_type": "code",
   "execution_count": null,
   "metadata": {},
   "outputs": [],
   "source": [
    "# For the actual visualisation, we store a number of shared parameters.\n",
    "style_plot = dict(\n",
    "    colors={\"Long\": \"Crimson\", \"Short\": \"Cornflowerblue\"},\n",
    "    linestyles={\"Concrete\": \"-\", \"Abstract\": \":\"},\n",
    "    split_legend=True,\n",
    "    ci=.68,  # confidence interval\n",
    "    show_sensors='lower right',\n",
    "    show_legend='lower left',\n",
    "    truncate_yaxis=\"max_ticks\",\n",
    "    picks=epochs.ch_names.index(\"Pz\"),\n",
    ")\n",
    "\n",
    "fig, ax = plt.subplots(figsize=(6, 4))\n",
    "mne.viz.plot_compare_evokeds(evokeds, axes=ax, **style_plot)\n",
    "plt.show()"
   ]
  },
  {
   "cell_type": "markdown",
   "metadata": {},
   "source": [
    "In order to be able to plot confidence intervals I need the full set of epochs:"
   ]
  },
  {
   "cell_type": "code",
   "execution_count": null,
   "metadata": {},
   "outputs": [],
   "source": [
    "query = \"is_long == '{0}' & is_concrete == '{1}'\"\n",
    "evokeds = dict()\n",
    "for concreteness in (\"Concrete\", \"Abstract\"):\n",
    "    for length in (\"Long\", \"Short\"):\n",
    "        subset = epochs[query.format(length, concreteness)]\n",
    "        evokeds[\"/\".join((concreteness, length))] = list(subset.iter_evoked())\n",
    "\n",
    "evokeds.keys()"
   ]
  },
  {
   "cell_type": "code",
   "execution_count": null,
   "metadata": {},
   "outputs": [],
   "source": [
    "type(evokeds['Concrete/Long']), type(evokeds['Concrete/Long'][0])  # list of evoked"
   ]
  },
  {
   "cell_type": "code",
   "execution_count": null,
   "metadata": {},
   "outputs": [],
   "source": [
    "fig, ax = plt.subplots(figsize=(6, 4))\n",
    "mne.viz.plot_compare_evokeds(evokeds, axes=ax, **style_plot)\n",
    "plt.show()"
   ]
  },
  {
   "cell_type": "markdown",
   "metadata": {},
   "source": [
    "Let's now compare words which are 4, 5, 6, 7 or 8 letters long:"
   ]
  },
  {
   "cell_type": "code",
   "execution_count": null,
   "metadata": {},
   "outputs": [],
   "source": [
    "letters = epochs.metadata[\"NumberOfLetters\"].unique().astype(int).astype(str)\n",
    "letters"
   ]
  },
  {
   "cell_type": "code",
   "execution_count": null,
   "metadata": {},
   "outputs": [],
   "source": [
    "evokeds = dict()\n",
    "for n_letters in letters:\n",
    "    evokeds[n_letters] = epochs[\"NumberOfLetters == \" + n_letters].average()\n",
    "\n",
    "style_plot[\"colors\"] = {n_letters: int(n_letters)\n",
    "                        for n_letters in letters}\n",
    "style_plot[\"cmap\"] = (\"# of Letters\", \"viridis_r\")\n",
    "del style_plot['linestyles']\n",
    "\n",
    "fig, ax = plt.subplots(figsize=(6, 4))\n",
    "mne.viz.plot_compare_evokeds(evokeds, axes=ax, **style_plot)\n",
    "plt.show()"
   ]
  },
  {
   "cell_type": "markdown",
   "metadata": {},
   "source": [
    "And finally, for the interaction between concreteness and continuous length\n",
    "in letters:\n",
    "\n"
   ]
  },
  {
   "cell_type": "code",
   "execution_count": null,
   "metadata": {},
   "outputs": [],
   "source": [
    "evokeds = dict()\n",
    "query = \"is_concrete == '{0}' & NumberOfLetters == {1}\"\n",
    "for concreteness in (\"Concrete\", \"Abstract\"):\n",
    "    for n_letters in letters:\n",
    "        subset = epochs[query.format(concreteness, n_letters)]\n",
    "        evokeds[\"/\".join((concreteness, n_letters))] = subset.average()\n",
    "\n",
    "style_plot[\"linestyles\"] = {\"Concrete\": \"-\", \"Abstract\": \":\"}\n",
    "\n",
    "fig, ax = plt.subplots(figsize=(6, 4))\n",
    "mne.viz.plot_compare_evokeds(evokeds, axes=ax, **style_plot)\n",
    "plt.show()"
   ]
  },
  {
   "cell_type": "markdown",
   "metadata": {},
   "source": [
    "<div class=\"alert alert-info\"><h4>Note</h4><p>Creating an mne.Epochs object with metadata is done by passing\n",
    "   a pandas.DataFrame to the ``metadata`` kwarg as follows:</p></div>"
   ]
  },
  {
   "cell_type": "code",
   "execution_count": null,
   "metadata": {},
   "outputs": [],
   "source": [
    "data = epochs.get_data()\n",
    "metadata = epochs.metadata.copy()\n",
    "epochs_new = mne.EpochsArray(data, epochs.info, metadata=metadata)"
   ]
  }
 ],
 "metadata": {
  "kernelspec": {
   "display_name": "Python 3",
   "language": "python",
   "name": "python3"
  },
  "language_info": {
   "codemirror_mode": {
    "name": "ipython",
    "version": 3
   },
   "file_extension": ".py",
   "mimetype": "text/x-python",
   "name": "python",
   "nbconvert_exporter": "python",
   "pygments_lexer": "ipython3",
   "version": "3.6.7"
  }
 },
 "nbformat": 4,
 "nbformat_minor": 1
}
