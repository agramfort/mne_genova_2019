{
 "cells": [
  {
   "cell_type": "code",
   "execution_count": null,
   "metadata": {},
   "outputs": [],
   "source": [
    "%matplotlib inline"
   ]
  },
  {
   "cell_type": "markdown",
   "metadata": {},
   "source": [
    "\n",
    "# Source localization with single dipole fit\n",
    "\n",
    "\n",
    "The aim of this lecture is to show you how to do sequential and\n",
    "fixed dipole fitting with MNE-Python."
   ]
  },
  {
   "cell_type": "code",
   "execution_count": null,
   "metadata": {},
   "outputs": [],
   "source": [
    "from os import path as op\n",
    "import numpy as np\n",
    "import matplotlib.pyplot as plt\n",
    "\n",
    "import mne\n",
    "from mne.forward import make_forward_dipole\n",
    "from mne.evoked import combine_evoked\n",
    "from mne.simulation import simulate_evoked\n",
    "\n",
    "# data_path = sample.data_path()\n",
    "data_path = '/Users/alex/mne_data/MNE-sample-data'\n",
    "\n",
    "subjects_dir = op.join(data_path, 'subjects')\n",
    "fname_ave = op.join(data_path, 'MEG', 'sample', 'sample_audvis-ave.fif')\n",
    "fname_cov = op.join(data_path, 'MEG', 'sample', 'sample_audvis-cov.fif')\n",
    "fname_bem = op.join(subjects_dir, 'sample', 'bem', 'sample-5120-bem-sol.fif')\n",
    "fname_trans = op.join(data_path, 'MEG', 'sample',\n",
    "                      'sample_audvis_raw-trans.fif')\n",
    "fname_surf_lh = op.join(subjects_dir, 'sample', 'surf', 'lh.white')"
   ]
  },
  {
   "cell_type": "markdown",
   "metadata": {},
   "source": [
    "Let's localize the N100m (using MEG only):\n",
    "\n"
   ]
  },
  {
   "cell_type": "code",
   "execution_count": null,
   "metadata": {},
   "outputs": [],
   "source": [
    "evoked = mne.read_evokeds(fname_ave, condition='Left Auditory', baseline=(None, 0))\n",
    "evoked.pick_types(meg=True, eeg=False)"
   ]
  },
  {
   "cell_type": "code",
   "execution_count": null,
   "metadata": {},
   "outputs": [],
   "source": [
    "# Fit a dipole using a sequential (time-varying position and orientation) fit\n",
    "evoked_crop = evoked.copy().crop(0.075, 0.09)\n",
    "dip, residual = mne.fit_dipole(evoked_crop, fname_cov, fname_bem,\n",
    "                               fname_trans)\n",
    "print(dip)"
   ]
  },
  {
   "cell_type": "code",
   "execution_count": null,
   "metadata": {},
   "outputs": [],
   "source": [
    "# Look at our result\n",
    "print(dip.gof)"
   ]
  },
  {
   "cell_type": "code",
   "execution_count": null,
   "metadata": {},
   "outputs": [],
   "source": [
    "selection = mne.read_selection('Right', info=evoked.info)\n",
    "# Fit a dipole using a sequential (time-varying position and orientation) fit\n",
    "evoked_crop_right = evoked.copy().crop(0.075, 0.09)\n",
    "evoked_crop_right.pick_channels(selection)\n",
    "dip, residual = mne.fit_dipole(evoked_crop_right, fname_cov, fname_bem,\n",
    "                               fname_trans)\n",
    "print(dip)"
   ]
  },
  {
   "cell_type": "code",
   "execution_count": null,
   "metadata": {},
   "outputs": [],
   "source": [
    "dip.gof"
   ]
  },
  {
   "cell_type": "markdown",
   "metadata": {},
   "source": [
    "Calculate and visualise magnetic field predicted by dipole with maximum GOF\n",
    "and compare to the measured data, highlighting the ipsilateral (right) source\n",
    "\n"
   ]
  },
  {
   "cell_type": "code",
   "execution_count": null,
   "metadata": {},
   "outputs": [],
   "source": [
    "# find time point with highest GOF\n",
    "best_idx = np.argmax(dip.gof)\n",
    "best_time = dip.times[best_idx]\n",
    "best_gof = dip.gof[best_idx]\n",
    "best_pos = dip.pos[best_idx]\n",
    "print('t=%0.3f, gof=%0.1f%%, pos=%s' % (best_time, best_gof, best_pos))"
   ]
  },
  {
   "cell_type": "markdown",
   "metadata": {},
   "source": [
    "Estimate the time course of our best-GOF dipole by using a fixed position\n",
    "and orientation (the one that maximized GOF) over the entire interval"
   ]
  },
  {
   "cell_type": "code",
   "execution_count": null,
   "metadata": {},
   "outputs": [],
   "source": [
    "best_ori = dip.ori[best_idx]\n",
    "dip_fixed = mne.fit_dipole(evoked, fname_cov, fname_bem, fname_trans,\n",
    "                           pos=best_pos, ori=best_ori)[0]\n",
    "dip_fixed.plot();"
   ]
  },
  {
   "cell_type": "code",
   "execution_count": null,
   "metadata": {},
   "outputs": [],
   "source": [
    "trans = data_path + '/MEG/sample/sample_audvis_raw-trans.fif'\n",
    "subjects_dir = data_path + '/subjects'\n",
    "dip.plot_locations(trans=trans, subject='sample',\n",
    "                   subjects_dir=subjects_dir, mode='orthoview');"
   ]
  },
  {
   "cell_type": "markdown",
   "metadata": {},
   "source": [
    "## Exercises\n",
    "- Try to improve the dipole fit by using a subselection of channels:\n",
    "    - Subselect channels from ``evoked`` and ``evoked_crop``\n",
    "      (think about ``mne.read_selection(...)``, ``evoked.pick_channels(...)``)\n",
    "    - Do a time-varying dipole fit of ``evoked_crop``\n",
    "    - Do a fixed-position, fixed-orientation fit using ``evoked`` and visualize the result\n",
    "- What is the improvement in max GOF from using a subselection of channels?\n",
    "- How far (in mm) is the new best dipole from the original best dipole?"
   ]
  }
 ],
 "metadata": {
  "kernelspec": {
   "display_name": "Python 3",
   "language": "python",
   "name": "python3"
  },
  "language_info": {
   "codemirror_mode": {
    "name": "ipython",
    "version": 3
   },
   "file_extension": ".py",
   "mimetype": "text/x-python",
   "name": "python",
   "nbconvert_exporter": "python",
   "pygments_lexer": "ipython3",
   "version": "3.6.7"
  }
 },
 "nbformat": 4,
 "nbformat_minor": 1
}
