{
 "cells": [
  {
   "cell_type": "markdown",
   "metadata": {},
   "source": [
    "# Source localization with MNE/dSPM/sLORETA\n",
    "\n",
    "The aim of this lecture is to teach you how to compute and apply\n",
    "a linear inverse method such as MNE/dSPM/sLORETA on evoked/raw/epochs data.\n",
    "\n",
    "`\n",
    "Authors: Alexandre Gramfort <alexandre.gramfort@telecom-paristech.fr>\n",
    "         Denis Engemann <denis.engemann@gmail.com>\n",
    "`"
   ]
  },
  {
   "cell_type": "code",
   "execution_count": null,
   "metadata": {},
   "outputs": [],
   "source": [
    "# add plot inline in the page\n",
    "%matplotlib inline\n",
    "\n",
    "import numpy as np\n",
    "import matplotlib.pyplot as plt\n",
    "\n",
    "import mne\n",
    "mne.set_log_level('WARNING')"
   ]
  },
  {
   "cell_type": "markdown",
   "metadata": {},
   "source": [
    "## Process MEG data"
   ]
  },
  {
   "cell_type": "code",
   "execution_count": null,
   "metadata": {},
   "outputs": [],
   "source": [
    "from mne.datasets import sample\n",
    "data_path = sample.data_path()\n",
    "#data_path = '/Users/alex/mne_data/MNE-sample-data'\n",
    "\n",
    "raw_fname = data_path + '/MEG/sample/sample_audvis_filt-0-40_raw.fif'\n",
    "\n",
    "raw = mne.io.read_raw_fif(raw_fname)\n",
    "print(raw)"
   ]
  },
  {
   "cell_type": "markdown",
   "metadata": {},
   "source": [
    "Looking at the meta data, a.k.a. the measurement info, we can query things such as sampling frequency, number of channels etc."
   ]
  },
  {
   "cell_type": "code",
   "execution_count": null,
   "metadata": {},
   "outputs": [],
   "source": [
    "print(raw.info['sfreq'])"
   ]
  },
  {
   "cell_type": "markdown",
   "metadata": {},
   "source": [
    "### Define epochs and compute ERP/ERF"
   ]
  },
  {
   "cell_type": "markdown",
   "metadata": {},
   "source": [
    "First look for events / triggers:"
   ]
  },
  {
   "cell_type": "code",
   "execution_count": null,
   "metadata": {},
   "outputs": [],
   "source": [
    "events = mne.find_events(raw, stim_channel='STI 014')"
   ]
  },
  {
   "cell_type": "code",
   "execution_count": null,
   "metadata": {},
   "outputs": [],
   "source": [
    "event_id = dict(aud_l=1)  # event trigger and conditions\n",
    "tmin = -0.2  # start of each epoch (200ms before the trigger)\n",
    "tmax = 0.5  # end of each epoch (500ms after the trigger)\n",
    "raw.info['bads'] = ['MEG 2443', 'EEG 053']\n",
    "picks = mne.pick_types(raw.info, meg=True, eeg=False, eog=True, exclude='bads')\n",
    "baseline = (None, 0)  # means from the first instant to t = 0\n",
    "reject = dict(grad=4000e-13, mag=4e-12, eog=150e-6)\n",
    "\n",
    "epochs = mne.Epochs(raw, events, event_id, tmin, tmax, proj=True,\n",
    "                    picks=picks, baseline=baseline, reject=reject)\n",
    "epochs.drop_bad()\n",
    "print(epochs.selection.shape)\n",
    "print(epochs)"
   ]
  },
  {
   "cell_type": "markdown",
   "metadata": {},
   "source": [
    "## Compute noise covariance\n",
    "\n",
    "See:\n",
    "\n",
    "Engemann D.A., Gramfort A., Automated model selection in covariance estimation and spatial whitening of MEG and EEG signals, Neuroimage. 2015 Mar"
   ]
  },
  {
   "cell_type": "code",
   "execution_count": null,
   "metadata": {},
   "outputs": [],
   "source": [
    "noise_cov = mne.compute_covariance(epochs, tmax=0.,\n",
    "                                   method=['shrunk', 'empirical'])\n",
    "print(noise_cov.data.shape)"
   ]
  },
  {
   "cell_type": "code",
   "execution_count": null,
   "metadata": {},
   "outputs": [],
   "source": [
    "mne.viz.plot_cov(noise_cov, raw.info)"
   ]
  },
  {
   "cell_type": "markdown",
   "metadata": {},
   "source": [
    "## Compute the evoked response"
   ]
  },
  {
   "cell_type": "code",
   "execution_count": null,
   "metadata": {},
   "outputs": [],
   "source": [
    "evoked = epochs.average()\n",
    "evoked.plot()\n",
    "evoked.plot_topomap(times=np.linspace(0.05, 0.15, 5), ch_type='mag');"
   ]
  },
  {
   "cell_type": "markdown",
   "metadata": {},
   "source": [
    "# Show whitening"
   ]
  },
  {
   "cell_type": "code",
   "execution_count": null,
   "metadata": {},
   "outputs": [],
   "source": [
    "evoked.plot_white(noise_cov);"
   ]
  },
  {
   "cell_type": "markdown",
   "metadata": {},
   "source": [
    "## Inverse modeling with MNE and dSPM on evoked and raw data"
   ]
  },
  {
   "cell_type": "markdown",
   "metadata": {},
   "source": [
    "Import the required functions:"
   ]
  },
  {
   "cell_type": "code",
   "execution_count": null,
   "metadata": {},
   "outputs": [],
   "source": [
    "from mne.forward import read_forward_solution\n",
    "from mne.minimum_norm import (make_inverse_operator, apply_inverse,\n",
    "                              write_inverse_operator)"
   ]
  },
  {
   "cell_type": "markdown",
   "metadata": {},
   "source": [
    "## Read the forward solution and compute the inverse operator\n",
    "\n",
    "MNE/dSPM/sLORETA lead to linear inverse models that are independant\n",
    "from the data (as they use just the noise covariance) and can therefore be\n",
    "precomputed and applied to the data at a later stage."
   ]
  },
  {
   "cell_type": "code",
   "execution_count": null,
   "metadata": {},
   "outputs": [],
   "source": [
    "fname_fwd = data_path + '/MEG/sample/sample_audvis-meg-oct-6-fwd.fif'\n",
    "fwd = mne.read_forward_solution(fname_fwd)\n",
    "fwd = mne.convert_forward_solution(fwd, surf_ori=True)\n",
    "\n",
    "# Restrict forward solution as necessary for MEG\n",
    "fwd = mne.pick_types_forward(fwd, meg=True, eeg=False)\n",
    "\n",
    "# make an M/EEG, MEG-only, and EEG-only inverse operator\n",
    "info = evoked.info\n",
    "inverse_operator = make_inverse_operator(info, fwd, noise_cov,\n",
    "                                         loose=0.2, depth=0.8)\n",
    "\n",
    "write_inverse_operator('sample_audvis-meg-oct-6-inv.fif',\n",
    "                       inverse_operator)"
   ]
  },
  {
   "cell_type": "markdown",
   "metadata": {},
   "source": [
    "## Compute inverse solution / Apply inverse operators"
   ]
  },
  {
   "cell_type": "code",
   "execution_count": null,
   "metadata": {},
   "outputs": [],
   "source": [
    "method = \"dSPM\"\n",
    "snr = 3.\n",
    "lambda2 = 1. / snr ** 2\n",
    "stc = apply_inverse(evoked, inverse_operator, lambda2,\n",
    "                    method=method, pick_ori=None)\n",
    "print(stc)"
   ]
  },
  {
   "cell_type": "code",
   "execution_count": null,
   "metadata": {},
   "outputs": [],
   "source": [
    "stc.data.shape"
   ]
  },
  {
   "cell_type": "code",
   "execution_count": null,
   "metadata": {},
   "outputs": [],
   "source": [
    "stc.save('fixed_ori')"
   ]
  },
  {
   "cell_type": "code",
   "execution_count": null,
   "metadata": {},
   "outputs": [],
   "source": [
    "# make one with no orientation constraint (free orientation)\n",
    "# inverse_operator = make_inverse_operator(info, fwd, noise_cov,\n",
    "#                                          loose=1., depth=0.8)\n",
    "# stc = apply_inverse(evoked, inverse_operator, lambda2,\n",
    "#                     method=method, pick_ori=None)\n",
    "# stc.save('free_ori')"
   ]
  },
  {
   "cell_type": "markdown",
   "metadata": {},
   "source": [
    "The ``stc`` (Source Time Courses) are defined on a source space formed by 7498 candidate\n",
    "locations and for a duration spanning 106 time points."
   ]
  },
  {
   "cell_type": "markdown",
   "metadata": {},
   "source": [
    "## Show the result"
   ]
  },
  {
   "cell_type": "code",
   "execution_count": null,
   "metadata": {},
   "outputs": [],
   "source": [
    "subjects_dir = data_path + '/subjects'\n",
    "brain = stc.plot(surface='inflated', hemi='rh', subjects_dir=subjects_dir)\n",
    "brain.set_data_time_index(45)\n",
    "brain.scale_data_colormap(fmin=8, fmid=12, fmax=15, transparent=True)\n",
    "brain.show_view('lateral')\n",
    "brain.save_image('dspm.jpg')"
   ]
  },
  {
   "cell_type": "code",
   "execution_count": null,
   "metadata": {},
   "outputs": [],
   "source": [
    "from mayavi import mlab\n",
    "mlab.close()"
   ]
  },
  {
   "cell_type": "code",
   "execution_count": null,
   "metadata": {},
   "outputs": [],
   "source": [
    "from IPython.display import Image\n",
    "Image(filename='dspm.jpg', width=600)"
   ]
  },
  {
   "cell_type": "markdown",
   "metadata": {},
   "source": [
    "## Morphing data to an average brain for group studies"
   ]
  },
  {
   "cell_type": "code",
   "execution_count": null,
   "metadata": {},
   "outputs": [],
   "source": [
    "subjects_dir = data_path + '/subjects'\n",
    "morph = mne.compute_source_morph(stc, subject_from='sample',\n",
    "                                 subject_to='fsaverage',\n",
    "                                 subjects_dir=subjects_dir)\n",
    "stc_fsaverage = morph.apply(stc)"
   ]
  },
  {
   "cell_type": "code",
   "execution_count": null,
   "metadata": {},
   "outputs": [],
   "source": [
    "stc_fsaverage.save('fsaverage_dspm')"
   ]
  },
  {
   "cell_type": "code",
   "execution_count": null,
   "metadata": {},
   "outputs": [],
   "source": [
    "brain_fsaverage = stc_fsaverage.plot(surface='inflated', hemi='rh',\n",
    "                                     subjects_dir=subjects_dir)\n",
    "brain_fsaverage.set_data_time_index(45)\n",
    "brain_fsaverage.scale_data_colormap(fmin=8, fmid=12, fmax=15, transparent=True)\n",
    "brain_fsaverage.show_view('lateral')\n",
    "brain_fsaverage.save_image('dspm_fsaverage.jpg')"
   ]
  },
  {
   "cell_type": "code",
   "execution_count": null,
   "metadata": {},
   "outputs": [],
   "source": [
    "mlab.close()"
   ]
  },
  {
   "cell_type": "code",
   "execution_count": null,
   "metadata": {},
   "outputs": [],
   "source": [
    "from IPython.display import Image\n",
    "Image(filename='dspm_fsaverage.jpg', width=600)"
   ]
  },
  {
   "cell_type": "markdown",
   "metadata": {},
   "source": [
    "### Solving the inverse problem on raw data or epochs using Freesurfer labels"
   ]
  },
  {
   "cell_type": "code",
   "execution_count": null,
   "metadata": {},
   "outputs": [],
   "source": [
    "fname_label = data_path + '/MEG/sample/labels/Aud-lh.label'\n",
    "label = mne.read_label(fname_label)"
   ]
  },
  {
   "cell_type": "markdown",
   "metadata": {},
   "source": [
    "Compute the inverse solution for the first 15s:"
   ]
  },
  {
   "cell_type": "code",
   "execution_count": null,
   "metadata": {},
   "outputs": [],
   "source": [
    "from mne.minimum_norm import apply_inverse_raw, apply_inverse_epochs\n",
    "\n",
    "start, stop = raw.time_as_index([0, 15])  # read the first 15s of data\n",
    "\n",
    "stc = apply_inverse_raw(raw, inverse_operator, lambda2, method, label,\n",
    "                        start, stop)"
   ]
  },
  {
   "cell_type": "markdown",
   "metadata": {},
   "source": [
    "Plot the dSPM time courses in the label:"
   ]
  },
  {
   "cell_type": "code",
   "execution_count": null,
   "metadata": {},
   "outputs": [],
   "source": [
    "%matplotlib inline\n",
    "plt.plot(stc.times, stc.data.T)\n",
    "plt.xlabel('time (s)')\n",
    "plt.ylabel('dSPM value')"
   ]
  },
  {
   "cell_type": "markdown",
   "metadata": {},
   "source": [
    "And on epochs:"
   ]
  },
  {
   "cell_type": "code",
   "execution_count": null,
   "metadata": {},
   "outputs": [],
   "source": [
    "# Compute inverse solution and stcs for each epoch\n",
    "# Use the same inverse operator as with evoked data (i.e., set nave)\n",
    "# If you use a different nave, dSPM just scales by a factor sqrt(nave)\n",
    "\n",
    "stcs = apply_inverse_epochs(epochs, inverse_operator, lambda2, method, label,\n",
    "                            pick_ori=\"normal\", nave=evoked.nave)\n",
    "\n",
    "stc_evoked = apply_inverse(evoked, inverse_operator, lambda2, method,\n",
    "                           pick_ori=\"normal\")\n",
    "\n",
    "stc_evoked_label = stc_evoked.in_label(label)\n",
    "\n",
    "# Mean across trials but not across vertices in label\n",
    "mean_stc = np.sum(stcs) / len(stcs)"
   ]
  },
  {
   "cell_type": "code",
   "execution_count": null,
   "metadata": {},
   "outputs": [],
   "source": [
    "# compute sign flip to avoid signal cancelation when averaging signed values\n",
    "flip = mne.label_sign_flip(label, inverse_operator['src'])\n",
    "\n",
    "label_mean = np.mean(mean_stc.data, axis=0)\n",
    "label_mean_flip = np.mean(flip[:, np.newaxis] * mean_stc.data, axis=0)\n",
    "\n",
    "# Average over label (not caring to align polarities here)\n",
    "label_mean_evoked = np.mean(stc_evoked_label.data, axis=0)"
   ]
  },
  {
   "cell_type": "markdown",
   "metadata": {},
   "source": [
    "View activation time-series to illustrate the benefit of aligning/flipping"
   ]
  },
  {
   "cell_type": "code",
   "execution_count": null,
   "metadata": {},
   "outputs": [],
   "source": [
    "times = 1e3 * stcs[0].times  # times in ms\n",
    "\n",
    "plt.figure()\n",
    "h0 = plt.plot(times, mean_stc.data.T, 'k')\n",
    "h1, = plt.plot(times, label_mean, 'r', linewidth=3)\n",
    "h2, = plt.plot(times, label_mean_flip, 'g', linewidth=3)\n",
    "plt.legend((h0[0], h1, h2), ('all dipoles in label', 'mean',\n",
    "                             'mean with sign flip'))\n",
    "plt.xlabel('time (ms)')\n",
    "plt.ylabel('dSPM value')\n",
    "plt.show()"
   ]
  },
  {
   "cell_type": "markdown",
   "metadata": {},
   "source": [
    "Viewing single trial dSPM and average dSPM for unflipped pooling over label\n",
    "Compare to (1) Inverse (dSPM) then average, (2) Evoked (= average) then dSPM"
   ]
  },
  {
   "cell_type": "code",
   "execution_count": null,
   "metadata": {},
   "outputs": [],
   "source": [
    "# Single trial\n",
    "plt.figure()\n",
    "for k, stc_trial in enumerate(stcs):\n",
    "    plt.plot(times, np.mean(stc_trial.data, axis=0).T, 'k--',\n",
    "             label='Single Trials' if k == 0 else '_nolegend_',\n",
    "             alpha=0.5)\n",
    "\n",
    "# Single trial inverse then average.. making linewidth large to not be masked\n",
    "plt.plot(times, label_mean, 'b', linewidth=6,\n",
    "         label='dSPM first, then average')\n",
    "\n",
    "# Evoked and then inverse\n",
    "plt.plot(times, label_mean_evoked, 'r', linewidth=2,\n",
    "         label='Average first, then dSPM')\n",
    "\n",
    "plt.xlabel('time (ms)')\n",
    "plt.ylabel('dSPM value')\n",
    "plt.legend()\n",
    "plt.show()"
   ]
  },
  {
   "cell_type": "markdown",
   "metadata": {},
   "source": [
    "## Exercises\n",
    "- Run sLORETA on the same data and compare source localizations\n",
    "- Run an LCMV beamformer on the same data and compare source localizations"
   ]
  },
  {
   "cell_type": "markdown",
   "metadata": {},
   "source": [
    "### Going further:\n",
    "- http://martinos.org/mne/dev/auto_examples/inverse/plot_compute_mne_inverse_epochs_in_label.html\n",
    "- http://martinos.org/mne/dev/auto_examples/inverse/plot_label_source_activations.html\n",
    "- http://martinos.org/mne/dev/auto_examples/inverse/plot_label_from_stc.html"
   ]
  }
 ],
 "metadata": {
  "kernelspec": {
   "display_name": "Python 3",
   "language": "python",
   "name": "python3"
  },
  "language_info": {
   "codemirror_mode": {
    "name": "ipython",
    "version": 3
   },
   "file_extension": ".py",
   "mimetype": "text/x-python",
   "name": "python",
   "nbconvert_exporter": "python",
   "pygments_lexer": "ipython3",
   "version": "3.6.7"
  }
 },
 "nbformat": 4,
 "nbformat_minor": 1
}
